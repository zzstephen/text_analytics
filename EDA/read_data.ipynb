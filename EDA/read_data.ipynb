{
 "cells": [
  {
   "cell_type": "code",
   "execution_count": 1,
   "id": "e21224c2",
   "metadata": {
    "executionInfo": {
     "elapsed": 567,
     "status": "ok",
     "timestamp": 1709052617561,
     "user": {
      "displayName": "Adham Elkomy",
      "userId": "05134505598862269623"
     },
     "user_tz": -120
    },
    "id": "e21224c2"
   },
   "outputs": [],
   "source": [
    "import warnings\n",
    "warnings.filterwarnings('ignore')\n",
    "import pandas as pd\n",
    "import numpy as np\n",
    "import sys\n",
    "sys.path.append('../../../../infrastructure/tools')\n",
    "from utilities import *\n",
    "from plotting import *"
   ]
  },
  {
   "cell_type": "code",
   "execution_count": 2,
   "id": "5d6e8235-daff-430f-9e12-66c2f7b59914",
   "metadata": {},
   "outputs": [],
   "source": [
    "raw_data = pd.read_csv(\"../../../data/complaints.csv\")"
   ]
  },
  {
   "cell_type": "code",
   "execution_count": 3,
   "id": "969f21cd-8899-4755-8c13-a9fff29c3b28",
   "metadata": {},
   "outputs": [
    {
     "data": {
      "text/html": [
       "<div>\n",
       "<style scoped>\n",
       "    .dataframe tbody tr th:only-of-type {\n",
       "        vertical-align: middle;\n",
       "    }\n",
       "\n",
       "    .dataframe tbody tr th {\n",
       "        vertical-align: top;\n",
       "    }\n",
       "\n",
       "    .dataframe thead th {\n",
       "        text-align: right;\n",
       "    }\n",
       "</style>\n",
       "<table border=\"1\" class=\"dataframe\">\n",
       "  <thead>\n",
       "    <tr style=\"text-align: right;\">\n",
       "      <th></th>\n",
       "      <th>Unnamed: 0</th>\n",
       "      <th>product</th>\n",
       "      <th>narrative</th>\n",
       "    </tr>\n",
       "  </thead>\n",
       "  <tbody>\n",
       "    <tr>\n",
       "      <th>0</th>\n",
       "      <td>0</td>\n",
       "      <td>credit_card</td>\n",
       "      <td>purchase order day shipping amount receive pro...</td>\n",
       "    </tr>\n",
       "    <tr>\n",
       "      <th>1</th>\n",
       "      <td>1</td>\n",
       "      <td>credit_card</td>\n",
       "      <td>forwarded message date tue subject please inve...</td>\n",
       "    </tr>\n",
       "    <tr>\n",
       "      <th>2</th>\n",
       "      <td>2</td>\n",
       "      <td>retail_banking</td>\n",
       "      <td>forwarded message cc sent friday pdt subject f...</td>\n",
       "    </tr>\n",
       "    <tr>\n",
       "      <th>3</th>\n",
       "      <td>3</td>\n",
       "      <td>credit_reporting</td>\n",
       "      <td>payment history missing credit report speciali...</td>\n",
       "    </tr>\n",
       "    <tr>\n",
       "      <th>4</th>\n",
       "      <td>4</td>\n",
       "      <td>credit_reporting</td>\n",
       "      <td>payment history missing credit report made mis...</td>\n",
       "    </tr>\n",
       "  </tbody>\n",
       "</table>\n",
       "</div>"
      ],
      "text/plain": [
       "   Unnamed: 0           product  \\\n",
       "0           0       credit_card   \n",
       "1           1       credit_card   \n",
       "2           2    retail_banking   \n",
       "3           3  credit_reporting   \n",
       "4           4  credit_reporting   \n",
       "\n",
       "                                           narrative  \n",
       "0  purchase order day shipping amount receive pro...  \n",
       "1  forwarded message date tue subject please inve...  \n",
       "2  forwarded message cc sent friday pdt subject f...  \n",
       "3  payment history missing credit report speciali...  \n",
       "4  payment history missing credit report made mis...  "
      ]
     },
     "execution_count": 3,
     "metadata": {},
     "output_type": "execute_result"
    }
   ],
   "source": [
    "raw_data.head()"
   ]
  },
  {
   "cell_type": "code",
   "execution_count": 4,
   "id": "e31bbba5-88b1-4b69-a6d4-a8bd7f1684ef",
   "metadata": {},
   "outputs": [
    {
     "data": {
      "text/plain": [
       "(162421, 3)"
      ]
     },
     "execution_count": 4,
     "metadata": {},
     "output_type": "execute_result"
    }
   ],
   "source": [
    "raw_data.shape"
   ]
  },
  {
   "cell_type": "code",
   "execution_count": 5,
   "id": "0c73341d-62c3-49e3-926a-2b871be0e54a",
   "metadata": {},
   "outputs": [],
   "source": [
    "raw_data.narrative.fillna('unknown',inplace=True)"
   ]
  },
  {
   "cell_type": "code",
   "execution_count": 6,
   "id": "fdeb50d7-ddec-4a0b-bf81-43d97699bd31",
   "metadata": {},
   "outputs": [],
   "source": [
    "raw_data = raw_data.rename(columns={'Unnamed: 0':'complaint_id'})"
   ]
  },
  {
   "cell_type": "code",
   "execution_count": 7,
   "id": "e58b03bd-5b80-4d94-941f-b322297148be",
   "metadata": {},
   "outputs": [
    {
     "data": {
      "text/html": [
       "<div>\n",
       "<style scoped>\n",
       "    .dataframe tbody tr th:only-of-type {\n",
       "        vertical-align: middle;\n",
       "    }\n",
       "\n",
       "    .dataframe tbody tr th {\n",
       "        vertical-align: top;\n",
       "    }\n",
       "\n",
       "    .dataframe thead th {\n",
       "        text-align: right;\n",
       "    }\n",
       "</style>\n",
       "<table border=\"1\" class=\"dataframe\">\n",
       "  <thead>\n",
       "    <tr style=\"text-align: right;\">\n",
       "      <th></th>\n",
       "      <th>product</th>\n",
       "      <th>Frequency</th>\n",
       "      <th>Percent</th>\n",
       "      <th>Cum Frequency</th>\n",
       "      <th>Cum Percent</th>\n",
       "    </tr>\n",
       "  </thead>\n",
       "  <tbody>\n",
       "    <tr>\n",
       "      <th>0</th>\n",
       "      <td>credit_card</td>\n",
       "      <td>15566</td>\n",
       "      <td>9.583736</td>\n",
       "      <td>15566</td>\n",
       "      <td>9.583736</td>\n",
       "    </tr>\n",
       "    <tr>\n",
       "      <th>1</th>\n",
       "      <td>credit_reporting</td>\n",
       "      <td>91179</td>\n",
       "      <td>56.137445</td>\n",
       "      <td>106745</td>\n",
       "      <td>65.721181</td>\n",
       "    </tr>\n",
       "    <tr>\n",
       "      <th>2</th>\n",
       "      <td>debt_collection</td>\n",
       "      <td>23150</td>\n",
       "      <td>14.253083</td>\n",
       "      <td>129895</td>\n",
       "      <td>79.974264</td>\n",
       "    </tr>\n",
       "    <tr>\n",
       "      <th>3</th>\n",
       "      <td>mortgages_and_loans</td>\n",
       "      <td>18990</td>\n",
       "      <td>11.691838</td>\n",
       "      <td>148885</td>\n",
       "      <td>91.666102</td>\n",
       "    </tr>\n",
       "    <tr>\n",
       "      <th>4</th>\n",
       "      <td>retail_banking</td>\n",
       "      <td>13536</td>\n",
       "      <td>8.333898</td>\n",
       "      <td>162421</td>\n",
       "      <td>100.000000</td>\n",
       "    </tr>\n",
       "    <tr>\n",
       "      <th>5</th>\n",
       "      <td>missing</td>\n",
       "      <td>0</td>\n",
       "      <td>0.000000</td>\n",
       "      <td>162421</td>\n",
       "      <td>100.000000</td>\n",
       "    </tr>\n",
       "  </tbody>\n",
       "</table>\n",
       "</div>"
      ],
      "text/plain": [
       "               product  Frequency    Percent  Cum Frequency  Cum Percent\n",
       "0          credit_card      15566   9.583736          15566     9.583736\n",
       "1     credit_reporting      91179  56.137445         106745    65.721181\n",
       "2      debt_collection      23150  14.253083         129895    79.974264\n",
       "3  mortgages_and_loans      18990  11.691838         148885    91.666102\n",
       "4       retail_banking      13536   8.333898         162421   100.000000\n",
       "5              missing          0   0.000000         162421   100.000000"
      ]
     },
     "execution_count": 7,
     "metadata": {},
     "output_type": "execute_result"
    }
   ],
   "source": [
    "utilities.cat_desc(raw_data,['product'])['product']"
   ]
  },
  {
   "cell_type": "code",
   "execution_count": 8,
   "id": "b1ec9b99-d5a4-41da-8f5c-39765c4d1597",
   "metadata": {},
   "outputs": [],
   "source": [
    "raw_data['narrative_len'] = raw_data['narrative'].str.len()"
   ]
  },
  {
   "cell_type": "code",
   "execution_count": 9,
   "id": "27948082-f995-45c6-9415-d8d37f6767dc",
   "metadata": {},
   "outputs": [
    {
     "data": {
      "text/plain": [
       "<Axes: >"
      ]
     },
     "execution_count": 9,
     "metadata": {},
     "output_type": "execute_result"
    },
    {
     "data": {
      "image/png": "[encoded data removed]",
      "text/plain": [
       "<Figure size 640x480 with 1 Axes>"
      ]
     },
     "metadata": {},
     "output_type": "display_data"
    }
   ],
   "source": [
    "raw_data['narrative_len'].hist(bins=20)"
   ]
  },
  {
   "cell_type": "code",
   "execution_count": 10,
   "id": "4751c060-e23e-433e-a712-811ce6bdb500",
   "metadata": {},
   "outputs": [],
   "source": [
    "new_vars = []\n",
    "for p in raw_data['product'].unique():\n",
    "    raw_data[f'has_{p}'] = raw_data['narrative'].str.contains(p)\n",
    "    new_vars.append(f'has_{p}')"
   ]
  },
  {
   "cell_type": "code",
   "execution_count": 11,
   "id": "ecfe3d99-4021-479c-9cab-2b60ec15aba6",
   "metadata": {},
   "outputs": [
    {
     "data": {
      "text/plain": [
       "['has_credit_card',\n",
       " 'has_retail_banking',\n",
       " 'has_credit_reporting',\n",
       " 'has_mortgages_and_loans',\n",
       " 'has_debt_collection']"
      ]
     },
     "execution_count": 11,
     "metadata": {},
     "output_type": "execute_result"
    }
   ],
   "source": [
    "new_vars"
   ]
  },
  {
   "cell_type": "code",
   "execution_count": 12,
   "id": "3e63dd54-6de1-492b-9e20-ce7edcb27714",
   "metadata": {},
   "outputs": [],
   "source": [
    "cat_desc = utilities.cat_desc(raw_data,new_vars)"
   ]
  },
  {
   "cell_type": "code",
   "execution_count": 13,
   "id": "6bd62a3c-526b-4874-ab4f-c9556c20847d",
   "metadata": {},
   "outputs": [
    {
     "name": "stdout",
     "output_type": "stream",
     "text": [
      "  has_credit_card  Frequency  Percent  Cum Frequency  Cum Percent\n",
      "0           False     162421    100.0         162421        100.0\n",
      "1         missing          0      0.0         162421        100.0\n",
      "  has_retail_banking  Frequency  Percent  Cum Frequency  Cum Percent\n",
      "0              False     162421    100.0         162421        100.0\n",
      "1            missing          0      0.0         162421        100.0\n",
      "  has_credit_reporting  Frequency  Percent  Cum Frequency  Cum Percent\n",
      "0                False     162421    100.0         162421        100.0\n",
      "1              missing          0      0.0         162421        100.0\n",
      "  has_mortgages_and_loans  Frequency  Percent  Cum Frequency  Cum Percent\n",
      "0                   False     162421    100.0         162421        100.0\n",
      "1                 missing          0      0.0         162421        100.0\n",
      "  has_debt_collection  Frequency  Percent  Cum Frequency  Cum Percent\n",
      "0               False     162421    100.0         162421        100.0\n",
      "1             missing          0      0.0         162421        100.0\n"
     ]
    }
   ],
   "source": [
    "for v in new_vars:\n",
    "    print(cat_desc[v])"
   ]
  },
  {
   "cell_type": "code",
   "execution_count": 14,
   "id": "5e722da0-ae10-4f55-bb81-49da1cd27763",
   "metadata": {},
   "outputs": [
    {
     "data": {
      "text/plain": [
       "'purchase order day shipping amount receive product week sent followup email exact verbiage paid two day shipping received order company responded im sorry inform due unusually high order volume order shipped several week stock since early due high demand although continuing take order guaranteeing receive order place due time mask order exact shipping date right however guarantee ship soon soon delivers product u getting small shipment shipping first come first served basis appreciate patience fulfill order quickly recommend keeping order lose place line cancel distributor stock moment prefer cancel please note ask via email cancel accordance cancellation policy agreed checkout electronic inventory online requested order canceled refund issued canceled order sent verification order canceled refunded item particulate respirator refunded subtotal shipping tax total usd visa ending refund called disputed amount stated nothing needed submitted address issue recharged item removing called back dispute amount transaction rebillmerchandiserobert ca purchased thu posted wed purchased appears statement transaction rebill ca u followed see status case submitted documentation showing canceled order supposed submit refund called back speak manager case stated dispute ruled favor charge removed card capital one removed purchase bill purchase adjustmentmerchandiserobert j posted fri purchased appears statement purchase adjustment capital one recharges amount transaction rebillmerchandiserobert j purchased thu posted mon purchased appears statement transaction rebill called capital one requested recharge stated visa ruled case pretended remove purchase knew anything case manager ruling favor'"
      ]
     },
     "execution_count": 14,
     "metadata": {},
     "output_type": "execute_result"
    }
   ],
   "source": [
    "raw_data['narrative'][0]"
   ]
  },
  {
   "cell_type": "code",
   "execution_count": 15,
   "id": "738a1436-b94f-4398-86e0-d89f5ee717af",
   "metadata": {},
   "outputs": [
    {
     "data": {
      "text/html": [
       "<div>\n",
       "<style scoped>\n",
       "    .dataframe tbody tr th:only-of-type {\n",
       "        vertical-align: middle;\n",
       "    }\n",
       "\n",
       "    .dataframe tbody tr th {\n",
       "        vertical-align: top;\n",
       "    }\n",
       "\n",
       "    .dataframe thead th {\n",
       "        text-align: right;\n",
       "    }\n",
       "</style>\n",
       "<table border=\"1\" class=\"dataframe\">\n",
       "  <thead>\n",
       "    <tr style=\"text-align: right;\">\n",
       "      <th></th>\n",
       "      <th>complaint_id</th>\n",
       "      <th>product</th>\n",
       "      <th>narrative</th>\n",
       "      <th>narrative_len</th>\n",
       "      <th>has_credit_card</th>\n",
       "      <th>has_retail_banking</th>\n",
       "      <th>has_credit_reporting</th>\n",
       "      <th>has_mortgages_and_loans</th>\n",
       "      <th>has_debt_collection</th>\n",
       "    </tr>\n",
       "  </thead>\n",
       "  <tbody>\n",
       "    <tr>\n",
       "      <th>0</th>\n",
       "      <td>0</td>\n",
       "      <td>credit_card</td>\n",
       "      <td>purchase order day shipping amount receive pro...</td>\n",
       "      <td>1705</td>\n",
       "      <td>False</td>\n",
       "      <td>False</td>\n",
       "      <td>False</td>\n",
       "      <td>False</td>\n",
       "      <td>False</td>\n",
       "    </tr>\n",
       "  </tbody>\n",
       "</table>\n",
       "</div>"
      ],
      "text/plain": [
       "   complaint_id      product  \\\n",
       "0             0  credit_card   \n",
       "\n",
       "                                           narrative  narrative_len  \\\n",
       "0  purchase order day shipping amount receive pro...           1705   \n",
       "\n",
       "   has_credit_card  has_retail_banking  has_credit_reporting  \\\n",
       "0            False               False                 False   \n",
       "\n",
       "   has_mortgages_and_loans  has_debt_collection  \n",
       "0                    False                False  "
      ]
     },
     "execution_count": 15,
     "metadata": {},
     "output_type": "execute_result"
    }
   ],
   "source": [
    "raw_data.head(1)"
   ]
  },
  {
   "cell_type": "code",
   "execution_count": 16,
   "id": "2c54a948-96a8-4844-93ed-b3c6da2c4b66",
   "metadata": {},
   "outputs": [],
   "source": [
    "import re\n",
    "RE_SUSPICIOUS = re.compile(r'[&#<>\\[\\]\\\\]')"
   ]
  },
  {
   "cell_type": "code",
   "execution_count": 17,
   "id": "6ea3423c-206f-4016-9d83-da9d479951e7",
   "metadata": {},
   "outputs": [],
   "source": [
    "def impurity(text, min_len=0):\n",
    "    if text == None or len(text) < min_len:\n",
    "        return 0\n",
    "    else:\n",
    "        return len(RE_SUSPICIOUS.findall(text))/len(text)"
   ]
  },
  {
   "cell_type": "code",
   "execution_count": 18,
   "id": "cffa39ce-dbe0-47d2-ac99-2d8f15a877f1",
   "metadata": {},
   "outputs": [
    {
     "name": "stdout",
     "output_type": "stream",
     "text": [
      "0.0\n"
     ]
    }
   ],
   "source": [
    "print(impurity(raw_data.at[0,'narrative']))"
   ]
  },
  {
   "cell_type": "code",
   "execution_count": 19,
   "id": "d573489c-4f4d-47aa-baf8-edc1023f0983",
   "metadata": {},
   "outputs": [
    {
     "data": {
      "text/plain": [
       "'purchase order day shipping amount receive product week sent followup email exact verbiage paid two day shipping received order company responded im sorry inform due unusually high order volume order shipped several week stock since early due high demand although continuing take order guaranteeing receive order place due time mask order exact shipping date right however guarantee ship soon soon delivers product u getting small shipment shipping first come first served basis appreciate patience fulfill order quickly recommend keeping order lose place line cancel distributor stock moment prefer cancel please note ask via email cancel accordance cancellation policy agreed checkout electronic inventory online requested order canceled refund issued canceled order sent verification order canceled refunded item particulate respirator refunded subtotal shipping tax total usd visa ending refund called disputed amount stated nothing needed submitted address issue recharged item removing called back dispute amount transaction rebillmerchandiserobert ca purchased thu posted wed purchased appears statement transaction rebill ca u followed see status case submitted documentation showing canceled order supposed submit refund called back speak manager case stated dispute ruled favor charge removed card capital one removed purchase bill purchase adjustmentmerchandiserobert j posted fri purchased appears statement purchase adjustment capital one recharges amount transaction rebillmerchandiserobert j purchased thu posted mon purchased appears statement transaction rebill called capital one requested recharge stated visa ruled case pretended remove purchase knew anything case manager ruling favor'"
      ]
     },
     "execution_count": 19,
     "metadata": {},
     "output_type": "execute_result"
    }
   ],
   "source": [
    "raw_data.at[0,'narrative']"
   ]
  },
  {
   "cell_type": "code",
   "execution_count": null,
   "id": "73b366c0-bef0-4034-a3b9-bf4617cec770",
   "metadata": {},
   "outputs": [],
   "source": []
  },
  {
   "cell_type": "code",
   "execution_count": null,
   "id": "60b5ac76-f531-40e9-a5d8-6d4ca826f853",
   "metadata": {},
   "outputs": [],
   "source": []
  }
 ],
 "metadata": {
  "accelerator": "GPU",
  "colab": {
   "gpuType": "T4",
   "provenance": []
  },
  "kernelspec": {
   "display_name": "Python 3 (ipykernel)",
   "language": "python",
   "name": "python3"
  },
  "language_info": {
   "codemirror_mode": {
    "name": "ipython",
    "version": 3
   },
   "file_extension": ".py",
   "mimetype": "text/x-python",
   "name": "python",
   "nbconvert_exporter": "python",
   "pygments_lexer": "ipython3",
   "version": "3.12.7"
  }
 },
 "nbformat": 4,
 "nbformat_minor": 5
}
