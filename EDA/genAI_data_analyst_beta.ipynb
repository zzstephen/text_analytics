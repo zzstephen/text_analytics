{
 "cells": [
  {
   "cell_type": "code",
   "execution_count": 1,
   "id": "1e94fee4-bfbb-431e-a142-10de8d04a522",
   "metadata": {},
   "outputs": [],
   "source": [
    "import os\n",
    "from openai import *\n",
    "import pandas as pd\n",
    "import numpy as np\n",
    "import pdb\n",
    "import time\n",
    "sys.path.append('../../../../infrastructure/tools')\n",
    "from utilities import *\n",
    "from plotting import *"
   ]
  },
  {
   "cell_type": "code",
   "execution_count": 2,
   "id": "714adc60-c493-4d46-8e67-dbb3d4922782",
   "metadata": {},
   "outputs": [],
   "source": [
    "raw_data = pd.read_csv(\"../../../data/complaints.csv\")"
   ]
  },
  {
   "cell_type": "code",
   "execution_count": 3,
   "id": "2c423056-4f08-43b1-9a47-7cab8484c7ac",
   "metadata": {},
   "outputs": [],
   "source": [
    "raw_data = raw_data.fillna('unknown')"
   ]
  },
  {
   "cell_type": "code",
   "execution_count": 4,
   "id": "5acf33bd-d8b7-4c79-8829-0275c7b4e2a9",
   "metadata": {},
   "outputs": [],
   "source": [
    "raw_data = raw_data.rename(columns={'Unnamed: 0':'complaint_id'})"
   ]
  },
  {
   "cell_type": "code",
   "execution_count": 5,
   "id": "2268fa65-6421-453b-aa1b-ac0ba723d678",
   "metadata": {},
   "outputs": [
    {
     "data": {
      "text/html": [
       "<div>\n",
       "<style scoped>\n",
       "    .dataframe tbody tr th:only-of-type {\n",
       "        vertical-align: middle;\n",
       "    }\n",
       "\n",
       "    .dataframe tbody tr th {\n",
       "        vertical-align: top;\n",
       "    }\n",
       "\n",
       "    .dataframe thead th {\n",
       "        text-align: right;\n",
       "    }\n",
       "</style>\n",
       "<table border=\"1\" class=\"dataframe\">\n",
       "  <thead>\n",
       "    <tr style=\"text-align: right;\">\n",
       "      <th></th>\n",
       "      <th>complaint_id</th>\n",
       "      <th>product</th>\n",
       "      <th>narrative</th>\n",
       "    </tr>\n",
       "  </thead>\n",
       "  <tbody>\n",
       "    <tr>\n",
       "      <th>0</th>\n",
       "      <td>0</td>\n",
       "      <td>credit_card</td>\n",
       "      <td>purchase order day shipping amount receive pro...</td>\n",
       "    </tr>\n",
       "    <tr>\n",
       "      <th>1</th>\n",
       "      <td>1</td>\n",
       "      <td>credit_card</td>\n",
       "      <td>forwarded message date tue subject please inve...</td>\n",
       "    </tr>\n",
       "    <tr>\n",
       "      <th>2</th>\n",
       "      <td>2</td>\n",
       "      <td>retail_banking</td>\n",
       "      <td>forwarded message cc sent friday pdt subject f...</td>\n",
       "    </tr>\n",
       "    <tr>\n",
       "      <th>3</th>\n",
       "      <td>3</td>\n",
       "      <td>credit_reporting</td>\n",
       "      <td>payment history missing credit report speciali...</td>\n",
       "    </tr>\n",
       "    <tr>\n",
       "      <th>4</th>\n",
       "      <td>4</td>\n",
       "      <td>credit_reporting</td>\n",
       "      <td>payment history missing credit report made mis...</td>\n",
       "    </tr>\n",
       "  </tbody>\n",
       "</table>\n",
       "</div>"
      ],
      "text/plain": [
       "   complaint_id           product  \\\n",
       "0             0       credit_card   \n",
       "1             1       credit_card   \n",
       "2             2    retail_banking   \n",
       "3             3  credit_reporting   \n",
       "4             4  credit_reporting   \n",
       "\n",
       "                                           narrative  \n",
       "0  purchase order day shipping amount receive pro...  \n",
       "1  forwarded message date tue subject please inve...  \n",
       "2  forwarded message cc sent friday pdt subject f...  \n",
       "3  payment history missing credit report speciali...  \n",
       "4  payment history missing credit report made mis...  "
      ]
     },
     "execution_count": 5,
     "metadata": {},
     "output_type": "execute_result"
    }
   ],
   "source": [
    "raw_data.head()"
   ]
  },
  {
   "cell_type": "code",
   "execution_count": 6,
   "id": "b8ecfb54-b9e4-49bb-baf1-1c286e6a9a63",
   "metadata": {},
   "outputs": [],
   "source": [
    "sample = raw_data.sample(frac=0.1, random_state=123).reset_index(drop=True)"
   ]
  },
  {
   "cell_type": "code",
   "execution_count": 7,
   "id": "a8294a70-1e08-443b-b400-d482131385df",
   "metadata": {},
   "outputs": [],
   "source": [
    "with open(\"../../../../api_keys/openai_api.txt\", \"r\") as password_file:  # Open in binary read mode\n",
    "    \n",
    "    password = password_file.read()\n"
   ]
  },
  {
   "cell_type": "code",
   "execution_count": 8,
   "id": "fbeb856c-1897-4181-9737-ad86d88b25bb",
   "metadata": {},
   "outputs": [],
   "source": [
    "client = OpenAI(api_key=password)\n"
   ]
  },
  {
   "cell_type": "code",
   "execution_count": 9,
   "id": "f0625517-d350-44aa-9819-f231eed20a2b",
   "metadata": {},
   "outputs": [],
   "source": [
    "sample['chatgpt_keyword_extraction'] = 'unknown'"
   ]
  },
  {
   "cell_type": "code",
   "execution_count": 10,
   "id": "e7b1293e-0320-4a0d-9fd5-376f399fa3b1",
   "metadata": {},
   "outputs": [],
   "source": [
    "labels = [p for p in sample['product'].unique()]"
   ]
  },
  {
   "cell_type": "code",
   "execution_count": 11,
   "id": "6b500203-342e-4ad6-bdec-a3c15269e53e",
   "metadata": {},
   "outputs": [
    {
     "data": {
      "text/plain": [
       "['credit_reporting',\n",
       " 'credit_card',\n",
       " 'retail_banking',\n",
       " 'debt_collection',\n",
       " 'mortgages_and_loans']"
      ]
     },
     "execution_count": 11,
     "metadata": {},
     "output_type": "execute_result"
    }
   ],
   "source": [
    "labels"
   ]
  },
  {
   "cell_type": "code",
   "execution_count": 12,
   "id": "c33f3088-0730-4e54-a5f8-6abf9e421425",
   "metadata": {},
   "outputs": [
    {
     "data": {
      "text/html": [
       "<div>\n",
       "<style scoped>\n",
       "    .dataframe tbody tr th:only-of-type {\n",
       "        vertical-align: middle;\n",
       "    }\n",
       "\n",
       "    .dataframe tbody tr th {\n",
       "        vertical-align: top;\n",
       "    }\n",
       "\n",
       "    .dataframe thead th {\n",
       "        text-align: right;\n",
       "    }\n",
       "</style>\n",
       "<table border=\"1\" class=\"dataframe\">\n",
       "  <thead>\n",
       "    <tr style=\"text-align: right;\">\n",
       "      <th></th>\n",
       "      <th>complaint_id</th>\n",
       "      <th>product</th>\n",
       "      <th>narrative</th>\n",
       "      <th>chatgpt_keyword_extraction</th>\n",
       "    </tr>\n",
       "  </thead>\n",
       "  <tbody>\n",
       "    <tr>\n",
       "      <th>0</th>\n",
       "      <td>54641</td>\n",
       "      <td>credit_reporting</td>\n",
       "      <td>disputed error credit report multiple time sti...</td>\n",
       "      <td>unknown</td>\n",
       "    </tr>\n",
       "    <tr>\n",
       "      <th>1</th>\n",
       "      <td>55752</td>\n",
       "      <td>credit_reporting</td>\n",
       "      <td>filed dispute regard incorrect item credit rep...</td>\n",
       "      <td>unknown</td>\n",
       "    </tr>\n",
       "    <tr>\n",
       "      <th>2</th>\n",
       "      <td>39820</td>\n",
       "      <td>credit_reporting</td>\n",
       "      <td>decided get credit pulled due couple collectio...</td>\n",
       "      <td>unknown</td>\n",
       "    </tr>\n",
       "    <tr>\n",
       "      <th>3</th>\n",
       "      <td>76467</td>\n",
       "      <td>credit_reporting</td>\n",
       "      <td>sent paperwork containing undisputed overwhelm...</td>\n",
       "      <td>unknown</td>\n",
       "    </tr>\n",
       "    <tr>\n",
       "      <th>4</th>\n",
       "      <td>2686</td>\n",
       "      <td>credit_reporting</td>\n",
       "      <td>according fair credit reporting act section cr...</td>\n",
       "      <td>unknown</td>\n",
       "    </tr>\n",
       "    <tr>\n",
       "      <th>...</th>\n",
       "      <td>...</td>\n",
       "      <td>...</td>\n",
       "      <td>...</td>\n",
       "      <td>...</td>\n",
       "    </tr>\n",
       "    <tr>\n",
       "      <th>95</th>\n",
       "      <td>65869</td>\n",
       "      <td>credit_reporting</td>\n",
       "      <td>noticed credit report reflecting late payment ...</td>\n",
       "      <td>unknown</td>\n",
       "    </tr>\n",
       "    <tr>\n",
       "      <th>96</th>\n",
       "      <td>135883</td>\n",
       "      <td>debt_collection</td>\n",
       "      <td>account mine requested debt validated proof se...</td>\n",
       "      <td>unknown</td>\n",
       "    </tr>\n",
       "    <tr>\n",
       "      <th>97</th>\n",
       "      <td>141726</td>\n",
       "      <td>credit_reporting</td>\n",
       "      <td>may concern writing dispute fraudulent charge ...</td>\n",
       "      <td>unknown</td>\n",
       "    </tr>\n",
       "    <tr>\n",
       "      <th>98</th>\n",
       "      <td>110370</td>\n",
       "      <td>mortgages_and_loans</td>\n",
       "      <td>started refinance application submitted reques...</td>\n",
       "      <td>unknown</td>\n",
       "    </tr>\n",
       "    <tr>\n",
       "      <th>99</th>\n",
       "      <td>33594</td>\n",
       "      <td>credit_reporting</td>\n",
       "      <td>writing delete following information file item...</td>\n",
       "      <td>unknown</td>\n",
       "    </tr>\n",
       "  </tbody>\n",
       "</table>\n",
       "<p>100 rows × 4 columns</p>\n",
       "</div>"
      ],
      "text/plain": [
       "    complaint_id              product  \\\n",
       "0          54641     credit_reporting   \n",
       "1          55752     credit_reporting   \n",
       "2          39820     credit_reporting   \n",
       "3          76467     credit_reporting   \n",
       "4           2686     credit_reporting   \n",
       "..           ...                  ...   \n",
       "95         65869     credit_reporting   \n",
       "96        135883      debt_collection   \n",
       "97        141726     credit_reporting   \n",
       "98        110370  mortgages_and_loans   \n",
       "99         33594     credit_reporting   \n",
       "\n",
       "                                            narrative  \\\n",
       "0   disputed error credit report multiple time sti...   \n",
       "1   filed dispute regard incorrect item credit rep...   \n",
       "2   decided get credit pulled due couple collectio...   \n",
       "3   sent paperwork containing undisputed overwhelm...   \n",
       "4   according fair credit reporting act section cr...   \n",
       "..                                                ...   \n",
       "95  noticed credit report reflecting late payment ...   \n",
       "96  account mine requested debt validated proof se...   \n",
       "97  may concern writing dispute fraudulent charge ...   \n",
       "98  started refinance application submitted reques...   \n",
       "99  writing delete following information file item...   \n",
       "\n",
       "   chatgpt_keyword_extraction  \n",
       "0                     unknown  \n",
       "1                     unknown  \n",
       "2                     unknown  \n",
       "3                     unknown  \n",
       "4                     unknown  \n",
       "..                        ...  \n",
       "95                    unknown  \n",
       "96                    unknown  \n",
       "97                    unknown  \n",
       "98                    unknown  \n",
       "99                    unknown  \n",
       "\n",
       "[100 rows x 4 columns]"
      ]
     },
     "execution_count": 12,
     "metadata": {},
     "output_type": "execute_result"
    }
   ],
   "source": [
    "sample.head(100)"
   ]
  },
  {
   "cell_type": "code",
   "execution_count": 17,
   "id": "6cef248d-d889-4191-aefd-ebd48f675f85",
   "metadata": {},
   "outputs": [
    {
     "data": {
      "text/plain": [
       "2662.8803248405457"
      ]
     },
     "execution_count": 17,
     "metadata": {},
     "output_type": "execute_result"
    }
   ],
   "source": [
    "import time\n",
    "\n",
    "t0 = time.time()\n",
    "\n",
    "for i in range(1000):\n",
    "\n",
    "    messages = [\n",
    "    {\"role\": \"system\", \"content\": \"You are a seasoned NLP data scientist and engineer. You will process text data as I request\"}]\n",
    "\n",
    "    request = 'Summarize the following context? context:' + f\"{sample.at[i,'narrative']}\"\n",
    "\n",
    "    messages.append({\"role\": \"user\", \"content\": request})\n",
    "\n",
    "    response = client.chat.completions.create(model=\"gpt-3.5-turbo\", messages=messages)\n",
    "\n",
    "    response_context = response.choices[0].message.content\n",
    "\n",
    "    followup = f\"Now tell me which label I should choose for the summary? Choose from the following keywords: {','.join(labels)}\"\n",
    "\n",
    "    messages.append({\"role\": \"user\", \"content\": followup})\n",
    "        \n",
    "    response = client.chat.completions.create(model=\"gpt-3.5-turbo\", messages=messages)\n",
    "\n",
    "    response_context = response.choices[0].message.content\n",
    "\n",
    "\n",
    "    sample.at[i, 'chatgpt_keyword_extraction'] = response_context\n",
    "    \n",
    "t1 = time.time()\n",
    "\n",
    "total = t1-t0\n",
    "\n",
    "total"
   ]
  },
  {
   "cell_type": "code",
   "execution_count": null,
   "id": "db3adbac-ee76-4936-95d6-3d80ab35ab49",
   "metadata": {},
   "outputs": [],
   "source": []
  },
  {
   "cell_type": "code",
   "execution_count": null,
   "id": "98f99792-bb65-4247-ba10-6ced655e723e",
   "metadata": {},
   "outputs": [],
   "source": []
  },
  {
   "cell_type": "code",
   "execution_count": null,
   "id": "b5a3d31a-d09a-4bd9-ad4b-66dd896fafb3",
   "metadata": {},
   "outputs": [],
   "source": []
  },
  {
   "cell_type": "code",
   "execution_count": null,
   "id": "889cc501-876b-4d22-b355-e74e0148fcb2",
   "metadata": {},
   "outputs": [],
   "source": []
  },
  {
   "cell_type": "code",
   "execution_count": null,
   "id": "f3f16355-2b6d-40ef-bcd1-4f1a12e1bedb",
   "metadata": {},
   "outputs": [],
   "source": []
  },
  {
   "cell_type": "code",
   "execution_count": null,
   "id": "d92c6967-4766-441d-91c4-a41e7514f085",
   "metadata": {},
   "outputs": [],
   "source": []
  },
  {
   "cell_type": "code",
   "execution_count": 14,
   "id": "fd1a1e6d-9d5f-4321-b5d5-9c553a9398d7",
   "metadata": {},
   "outputs": [],
   "source": [
    "# raw_data.chatgpt_keyword_extraction.value_counts()"
   ]
  },
  {
   "cell_type": "code",
   "execution_count": 15,
   "id": "b92092cc-79cc-44eb-a916-a4bb324df6ee",
   "metadata": {},
   "outputs": [],
   "source": [
    "# raw_data.save('../../../data/intermediate/raw_gpt_labeled.csv')"
   ]
  },
  {
   "cell_type": "code",
   "execution_count": null,
   "id": "ba00cc02-5d60-4aea-9208-1f671a6b779a",
   "metadata": {},
   "outputs": [],
   "source": []
  },
  {
   "cell_type": "code",
   "execution_count": null,
   "id": "06cbea51-de7d-4967-b539-f82ea13e90ff",
   "metadata": {},
   "outputs": [],
   "source": []
  },
  {
   "cell_type": "code",
   "execution_count": null,
   "id": "525e5604-4d8a-48a1-9141-d57ef39f7348",
   "metadata": {},
   "outputs": [],
   "source": []
  },
  {
   "cell_type": "code",
   "execution_count": null,
   "id": "0a606367-cae7-41d9-942a-49d282273235",
   "metadata": {},
   "outputs": [],
   "source": []
  },
  {
   "cell_type": "code",
   "execution_count": null,
   "id": "53682ae1-af79-4e72-bb4e-445c1265664c",
   "metadata": {},
   "outputs": [],
   "source": []
  },
  {
   "cell_type": "code",
   "execution_count": null,
   "id": "4f104b83-ca6f-48dd-96f5-c23d7a08d9b8",
   "metadata": {},
   "outputs": [],
   "source": []
  },
  {
   "cell_type": "code",
   "execution_count": null,
   "id": "d11d83cc-bbaf-4866-b3cb-f3c91ab4229b",
   "metadata": {},
   "outputs": [],
   "source": []
  },
  {
   "cell_type": "code",
   "execution_count": null,
   "id": "77392804-df8a-4aac-b9ee-15ec82eb579b",
   "metadata": {},
   "outputs": [],
   "source": []
  },
  {
   "cell_type": "code",
   "execution_count": null,
   "id": "9ae9cf98-4928-40d4-b57e-aad94429070f",
   "metadata": {},
   "outputs": [],
   "source": []
  },
  {
   "cell_type": "code",
   "execution_count": null,
   "id": "2c4b9856-fd72-40c6-9546-23db4578e889",
   "metadata": {},
   "outputs": [],
   "source": []
  },
  {
   "cell_type": "code",
   "execution_count": null,
   "id": "c33e2746-a765-4791-b6c9-1c8aaf570ed8",
   "metadata": {},
   "outputs": [],
   "source": []
  },
  {
   "cell_type": "code",
   "execution_count": null,
   "id": "d1873d10-fc84-45c8-85ec-4ea83e71e80a",
   "metadata": {},
   "outputs": [],
   "source": []
  },
  {
   "cell_type": "code",
   "execution_count": null,
   "id": "3bdcff40-b9c7-4bb1-b5ce-89e3015792be",
   "metadata": {},
   "outputs": [],
   "source": []
  },
  {
   "cell_type": "code",
   "execution_count": null,
   "id": "28a16d16-23eb-4543-bc9a-9ec04ee627ed",
   "metadata": {},
   "outputs": [],
   "source": []
  }
 ],
 "metadata": {
  "kernelspec": {
   "display_name": "Python 3 (ipykernel)",
   "language": "python",
   "name": "python3"
  },
  "language_info": {
   "codemirror_mode": {
    "name": "ipython",
    "version": 3
   },
   "file_extension": ".py",
   "mimetype": "text/x-python",
   "name": "python",
   "nbconvert_exporter": "python",
   "pygments_lexer": "ipython3",
   "version": "3.12.7"
  }
 },
 "nbformat": 4,
 "nbformat_minor": 5
}
