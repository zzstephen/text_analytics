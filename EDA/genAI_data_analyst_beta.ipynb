{
 "cells": [
  {
   "cell_type": "code",
   "execution_count": 1,
   "id": "1e94fee4-bfbb-431e-a142-10de8d04a522",
   "metadata": {},
   "outputs": [],
   "source": [
    "import os\n",
    "from openai import *\n",
    "import pandas as pd\n",
    "import numpy as np\n",
    "import pdb\n",
    "import time\n",
    "sys.path.append('../../../../infrastructure/tools')\n",
    "from utilities import *\n",
    "from plotting import *\n",
    "import sqlite3"
   ]
  },
  {
   "cell_type": "code",
   "execution_count": 2,
   "id": "714adc60-c493-4d46-8e67-dbb3d4922782",
   "metadata": {},
   "outputs": [],
   "source": [
    "raw_data = pd.read_csv(\"../../../data/complaints.csv\")"
   ]
  },
  {
   "cell_type": "code",
   "execution_count": 3,
   "id": "2c423056-4f08-43b1-9a47-7cab8484c7ac",
   "metadata": {},
   "outputs": [],
   "source": [
    "raw_data = raw_data.fillna('unknown')"
   ]
  },
  {
   "cell_type": "code",
   "execution_count": 4,
   "id": "5acf33bd-d8b7-4c79-8829-0275c7b4e2a9",
   "metadata": {},
   "outputs": [],
   "source": [
    "raw_data = raw_data.rename(columns={'Unnamed: 0':'complaint_id'})"
   ]
  },
  {
   "cell_type": "code",
   "execution_count": 5,
   "id": "2268fa65-6421-453b-aa1b-ac0ba723d678",
   "metadata": {},
   "outputs": [
    {
     "data": {
      "text/html": [
       "<div>\n",
       "<style scoped>\n",
       "    .dataframe tbody tr th:only-of-type {\n",
       "        vertical-align: middle;\n",
       "    }\n",
       "\n",
       "    .dataframe tbody tr th {\n",
       "        vertical-align: top;\n",
       "    }\n",
       "\n",
       "    .dataframe thead th {\n",
       "        text-align: right;\n",
       "    }\n",
       "</style>\n",
       "<table border=\"1\" class=\"dataframe\">\n",
       "  <thead>\n",
       "    <tr style=\"text-align: right;\">\n",
       "      <th></th>\n",
       "      <th>complaint_id</th>\n",
       "      <th>product</th>\n",
       "      <th>narrative</th>\n",
       "    </tr>\n",
       "  </thead>\n",
       "  <tbody>\n",
       "    <tr>\n",
       "      <th>0</th>\n",
       "      <td>0</td>\n",
       "      <td>credit_card</td>\n",
       "      <td>purchase order day shipping amount receive pro...</td>\n",
       "    </tr>\n",
       "    <tr>\n",
       "      <th>1</th>\n",
       "      <td>1</td>\n",
       "      <td>credit_card</td>\n",
       "      <td>forwarded message date tue subject please inve...</td>\n",
       "    </tr>\n",
       "    <tr>\n",
       "      <th>2</th>\n",
       "      <td>2</td>\n",
       "      <td>retail_banking</td>\n",
       "      <td>forwarded message cc sent friday pdt subject f...</td>\n",
       "    </tr>\n",
       "    <tr>\n",
       "      <th>3</th>\n",
       "      <td>3</td>\n",
       "      <td>credit_reporting</td>\n",
       "      <td>payment history missing credit report speciali...</td>\n",
       "    </tr>\n",
       "    <tr>\n",
       "      <th>4</th>\n",
       "      <td>4</td>\n",
       "      <td>credit_reporting</td>\n",
       "      <td>payment history missing credit report made mis...</td>\n",
       "    </tr>\n",
       "  </tbody>\n",
       "</table>\n",
       "</div>"
      ],
      "text/plain": [
       "   complaint_id           product  \\\n",
       "0             0       credit_card   \n",
       "1             1       credit_card   \n",
       "2             2    retail_banking   \n",
       "3             3  credit_reporting   \n",
       "4             4  credit_reporting   \n",
       "\n",
       "                                           narrative  \n",
       "0  purchase order day shipping amount receive pro...  \n",
       "1  forwarded message date tue subject please inve...  \n",
       "2  forwarded message cc sent friday pdt subject f...  \n",
       "3  payment history missing credit report speciali...  \n",
       "4  payment history missing credit report made mis...  "
      ]
     },
     "execution_count": 5,
     "metadata": {},
     "output_type": "execute_result"
    }
   ],
   "source": [
    "raw_data.head()"
   ]
  },
  {
   "cell_type": "code",
   "execution_count": 6,
   "id": "b8ecfb54-b9e4-49bb-baf1-1c286e6a9a63",
   "metadata": {},
   "outputs": [],
   "source": [
    "sample = raw_data.sample(frac=0.1, random_state=123).reset_index(drop=True)"
   ]
  },
  {
   "cell_type": "code",
   "execution_count": 7,
   "id": "a8294a70-1e08-443b-b400-d482131385df",
   "metadata": {},
   "outputs": [],
   "source": [
    "with open(\"../../../../api_keys/openai_api.txt\", \"r\") as password_file:  # Open in binary read mode\n",
    "    \n",
    "    password = password_file.read()\n"
   ]
  },
  {
   "cell_type": "code",
   "execution_count": 8,
   "id": "fbeb856c-1897-4181-9737-ad86d88b25bb",
   "metadata": {},
   "outputs": [],
   "source": [
    "# client = OpenAI(api_key=password)\n"
   ]
  },
  {
   "cell_type": "code",
   "execution_count": 9,
   "id": "f0625517-d350-44aa-9819-f231eed20a2b",
   "metadata": {},
   "outputs": [],
   "source": [
    "sample['chatgpt_keyword_extraction'] = 'unknown'"
   ]
  },
  {
   "cell_type": "code",
   "execution_count": 10,
   "id": "e7b1293e-0320-4a0d-9fd5-376f399fa3b1",
   "metadata": {},
   "outputs": [],
   "source": [
    "labels = [p for p in sample['product'].unique()]"
   ]
  },
  {
   "cell_type": "code",
   "execution_count": 11,
   "id": "6b500203-342e-4ad6-bdec-a3c15269e53e",
   "metadata": {},
   "outputs": [
    {
     "data": {
      "text/plain": [
       "['credit_reporting',\n",
       " 'credit_card',\n",
       " 'retail_banking',\n",
       " 'debt_collection',\n",
       " 'mortgages_and_loans']"
      ]
     },
     "execution_count": 11,
     "metadata": {},
     "output_type": "execute_result"
    }
   ],
   "source": [
    "labels"
   ]
  },
  {
   "cell_type": "code",
   "execution_count": 12,
   "id": "c33f3088-0730-4e54-a5f8-6abf9e421425",
   "metadata": {},
   "outputs": [
    {
     "data": {
      "text/html": [
       "<div>\n",
       "<style scoped>\n",
       "    .dataframe tbody tr th:only-of-type {\n",
       "        vertical-align: middle;\n",
       "    }\n",
       "\n",
       "    .dataframe tbody tr th {\n",
       "        vertical-align: top;\n",
       "    }\n",
       "\n",
       "    .dataframe thead th {\n",
       "        text-align: right;\n",
       "    }\n",
       "</style>\n",
       "<table border=\"1\" class=\"dataframe\">\n",
       "  <thead>\n",
       "    <tr style=\"text-align: right;\">\n",
       "      <th></th>\n",
       "      <th>complaint_id</th>\n",
       "      <th>product</th>\n",
       "      <th>narrative</th>\n",
       "      <th>chatgpt_keyword_extraction</th>\n",
       "    </tr>\n",
       "  </thead>\n",
       "  <tbody>\n",
       "    <tr>\n",
       "      <th>0</th>\n",
       "      <td>54641</td>\n",
       "      <td>credit_reporting</td>\n",
       "      <td>disputed error credit report multiple time sti...</td>\n",
       "      <td>unknown</td>\n",
       "    </tr>\n",
       "    <tr>\n",
       "      <th>1</th>\n",
       "      <td>55752</td>\n",
       "      <td>credit_reporting</td>\n",
       "      <td>filed dispute regard incorrect item credit rep...</td>\n",
       "      <td>unknown</td>\n",
       "    </tr>\n",
       "    <tr>\n",
       "      <th>2</th>\n",
       "      <td>39820</td>\n",
       "      <td>credit_reporting</td>\n",
       "      <td>decided get credit pulled due couple collectio...</td>\n",
       "      <td>unknown</td>\n",
       "    </tr>\n",
       "    <tr>\n",
       "      <th>3</th>\n",
       "      <td>76467</td>\n",
       "      <td>credit_reporting</td>\n",
       "      <td>sent paperwork containing undisputed overwhelm...</td>\n",
       "      <td>unknown</td>\n",
       "    </tr>\n",
       "    <tr>\n",
       "      <th>4</th>\n",
       "      <td>2686</td>\n",
       "      <td>credit_reporting</td>\n",
       "      <td>according fair credit reporting act section cr...</td>\n",
       "      <td>unknown</td>\n",
       "    </tr>\n",
       "    <tr>\n",
       "      <th>...</th>\n",
       "      <td>...</td>\n",
       "      <td>...</td>\n",
       "      <td>...</td>\n",
       "      <td>...</td>\n",
       "    </tr>\n",
       "    <tr>\n",
       "      <th>95</th>\n",
       "      <td>65869</td>\n",
       "      <td>credit_reporting</td>\n",
       "      <td>noticed credit report reflecting late payment ...</td>\n",
       "      <td>unknown</td>\n",
       "    </tr>\n",
       "    <tr>\n",
       "      <th>96</th>\n",
       "      <td>135883</td>\n",
       "      <td>debt_collection</td>\n",
       "      <td>account mine requested debt validated proof se...</td>\n",
       "      <td>unknown</td>\n",
       "    </tr>\n",
       "    <tr>\n",
       "      <th>97</th>\n",
       "      <td>141726</td>\n",
       "      <td>credit_reporting</td>\n",
       "      <td>may concern writing dispute fraudulent charge ...</td>\n",
       "      <td>unknown</td>\n",
       "    </tr>\n",
       "    <tr>\n",
       "      <th>98</th>\n",
       "      <td>110370</td>\n",
       "      <td>mortgages_and_loans</td>\n",
       "      <td>started refinance application submitted reques...</td>\n",
       "      <td>unknown</td>\n",
       "    </tr>\n",
       "    <tr>\n",
       "      <th>99</th>\n",
       "      <td>33594</td>\n",
       "      <td>credit_reporting</td>\n",
       "      <td>writing delete following information file item...</td>\n",
       "      <td>unknown</td>\n",
       "    </tr>\n",
       "  </tbody>\n",
       "</table>\n",
       "<p>100 rows × 4 columns</p>\n",
       "</div>"
      ],
      "text/plain": [
       "    complaint_id              product  \\\n",
       "0          54641     credit_reporting   \n",
       "1          55752     credit_reporting   \n",
       "2          39820     credit_reporting   \n",
       "3          76467     credit_reporting   \n",
       "4           2686     credit_reporting   \n",
       "..           ...                  ...   \n",
       "95         65869     credit_reporting   \n",
       "96        135883      debt_collection   \n",
       "97        141726     credit_reporting   \n",
       "98        110370  mortgages_and_loans   \n",
       "99         33594     credit_reporting   \n",
       "\n",
       "                                            narrative  \\\n",
       "0   disputed error credit report multiple time sti...   \n",
       "1   filed dispute regard incorrect item credit rep...   \n",
       "2   decided get credit pulled due couple collectio...   \n",
       "3   sent paperwork containing undisputed overwhelm...   \n",
       "4   according fair credit reporting act section cr...   \n",
       "..                                                ...   \n",
       "95  noticed credit report reflecting late payment ...   \n",
       "96  account mine requested debt validated proof se...   \n",
       "97  may concern writing dispute fraudulent charge ...   \n",
       "98  started refinance application submitted reques...   \n",
       "99  writing delete following information file item...   \n",
       "\n",
       "   chatgpt_keyword_extraction  \n",
       "0                     unknown  \n",
       "1                     unknown  \n",
       "2                     unknown  \n",
       "3                     unknown  \n",
       "4                     unknown  \n",
       "..                        ...  \n",
       "95                    unknown  \n",
       "96                    unknown  \n",
       "97                    unknown  \n",
       "98                    unknown  \n",
       "99                    unknown  \n",
       "\n",
       "[100 rows x 4 columns]"
      ]
     },
     "execution_count": 12,
     "metadata": {},
     "output_type": "execute_result"
    }
   ],
   "source": [
    "sample.head(100)"
   ]
  },
  {
   "cell_type": "code",
   "execution_count": 13,
   "id": "7e659a79-2f5f-4f9f-887a-82cb303ffcd9",
   "metadata": {},
   "outputs": [],
   "source": [
    "conn = sqlite3.connect('raw_data.db') "
   ]
  },
  {
   "cell_type": "code",
   "execution_count": 14,
   "id": "db3adbac-ee76-4936-95d6-3d80ab35ab49",
   "metadata": {},
   "outputs": [
    {
     "data": {
      "text/plain": [
       "162421"
      ]
     },
     "execution_count": 14,
     "metadata": {},
     "output_type": "execute_result"
    }
   ],
   "source": [
    "raw_data.to_sql('my_table', conn, if_exists='replace', index=False)"
   ]
  },
  {
   "cell_type": "code",
   "execution_count": 15,
   "id": "98f99792-bb65-4247-ba10-6ced655e723e",
   "metadata": {},
   "outputs": [],
   "source": [
    "longest_narrative = raw_data.loc[raw_data['complaint_id']==7272, 'narrative'].values[0]"
   ]
  },
  {
   "cell_type": "code",
   "execution_count": 16,
   "id": "b5a3d31a-d09a-4bd9-ad4b-66dd896fafb3",
   "metadata": {},
   "outputs": [],
   "source": [
    "# longest_narrative"
   ]
  },
  {
   "cell_type": "code",
   "execution_count": 17,
   "id": "9d41fc2b-02cd-4508-8f15-3273f070815a",
   "metadata": {},
   "outputs": [
    {
     "name": "stdout",
     "output_type": "stream",
     "text": [
      "/Users/stephenzhou/PycharmProjects/text_analytics/code/text_analytics/EDA\n"
     ]
    }
   ],
   "source": [
    "!pwd"
   ]
  },
  {
   "cell_type": "code",
   "execution_count": 18,
   "id": "889cc501-876b-4d22-b355-e74e0148fcb2",
   "metadata": {},
   "outputs": [],
   "source": [
    "from langchain.agents import initialize_agent, Tool\n",
    "from langchain.agents import AgentType\n",
    "from langchain.chat_models import ChatOpenAI\n",
    "\n",
    "# from langchain.llms import OpenAI\n",
    "from langchain.sql_database import SQLDatabase\n",
    "from langchain_experimental.sql import SQLDatabaseChain\n",
    "from langchain.chains import LLMMathChain\n",
    "\n",
    "from langchain_openai import ChatOpenAI\n",
    "# llm = ChatOpenAI(model_name=llm_name, temperature=0.2)\n",
    "\n",
    "\n",
    "from langchain_community.utilities import SerpAPIWrapper\n",
    "search = SerpAPIWrapper(serpapi_api_key='64d9b949f90a2e9b9d237c2e9b92592d899e4d6cdb3daee82cdb7b2e9d00f731')\n",
    "\n"
   ]
  },
  {
   "cell_type": "code",
   "execution_count": 19,
   "id": "525e5604-4d8a-48a1-9141-d57ef39f7348",
   "metadata": {},
   "outputs": [],
   "source": [
    "\n",
    "llm = ChatOpenAI(\n",
    "    temperature=0, \n",
    "    model_name=\"gpt-3.5-turbo\",\n",
    "    openai_api_key=password\n",
    ")\n"
   ]
  },
  {
   "cell_type": "code",
   "execution_count": 20,
   "id": "012fc667-4fa7-4152-8f88-40c79411d4a2",
   "metadata": {},
   "outputs": [],
   "source": [
    "\n",
    "\n",
    "llm_math_chain = LLMMathChain.from_llm(llm=llm, verbose=True)\n"
   ]
  },
  {
   "cell_type": "code",
   "execution_count": 21,
   "id": "53682ae1-af79-4e72-bb4e-445c1265664c",
   "metadata": {},
   "outputs": [],
   "source": [
    "db = SQLDatabase.from_uri(\"sqlite:///raw_data.db'\")\n",
    "\n",
    "db_chain = SQLDatabaseChain.from_llm(llm, db)"
   ]
  },
  {
   "cell_type": "code",
   "execution_count": 22,
   "id": "4f104b83-ca6f-48dd-96f5-c23d7a08d9b8",
   "metadata": {},
   "outputs": [
    {
     "name": "stderr",
     "output_type": "stream",
     "text": [
      "/var/folders/j7/w07zs41n4s5df3svj9ygmh9h0000gn/T/ipykernel_4776/3853689312.py:20: LangChainDeprecationWarning:\n",
      "\n",
      "LangChain agents will continue to be supported, but it is recommended for new use cases to be built with LangGraph. LangGraph offers a more flexible and full-featured framework for building agents, including support for tool-calling, persistence of state, and human-in-the-loop workflows. For details, refer to the `LangGraph documentation <https://langchain-ai.github.io/langgraph/>`_ as well as guides for `Migrating from AgentExecutor <https://python.langchain.com/docs/how_to/migrate_agent/>`_ and LangGraph's `Pre-built ReAct agent <https://langchain-ai.github.io/langgraph/how-tos/create-react-agent/>`_.\n",
      "\n"
     ]
    }
   ],
   "source": [
    "tools = [\n",
    "    Tool(\n",
    "        name=\"SearchTool\",\n",
    "        func=search.run,\n",
    "        description=\"useful for when you need to answer questions about narratives. You should ask targeted questions\"\n",
    "    ),\n",
    "    # Tool(\n",
    "    #     name=\"MathTool\",\n",
    "    #     func=llm_math_chain.run,\n",
    "    #     description=\"useful for when you need to answer questions about summary statistics\"\n",
    "    # ),\n",
    "    Tool(\n",
    "        name=\"Product_Database\",\n",
    "        func=db_chain.run,\n",
    "        description=\"useful for when you need to answer questions about product and narratives\"\n",
    "    )\n",
    "]\n",
    "\n",
    "# creating the agent\n",
    "agent = initialize_agent(\n",
    "    tools=tools, llm=llm, agent=AgentType.OPENAI_FUNCTIONS, verbose=True)\n",
    "\n"
   ]
  },
  {
   "cell_type": "code",
   "execution_count": 25,
   "id": "d11d83cc-bbaf-4866-b3cb-f3c91ab4229b",
   "metadata": {},
   "outputs": [
    {
     "name": "stdout",
     "output_type": "stream",
     "text": [
      "\n",
      "\n",
      "\u001b[1m> Entering new AgentExecutor chain...\u001b[0m\n",
      "\u001b[32;1m\u001b[1;3m\n",
      "Invoking: `SearchTool` with `longest complaint`\n",
      "\n",
      "\n",
      "\u001b[0m\u001b[36;1m\u001b[1;3m['Written in Akkadian cuneiform, this tablet is recognized as the \"Oldest Customer Complaint\" by Guinness World Records.', 'The oldest written customer complaint is the \"Complaint tablet to Ea-nasir\" and is 3767 years old, acquired by the British Museum (UK) in London, UK, ...', 'In 1750 B.C., a disgruntled customer complained about a bad batch of ingots. Hear his complaint and theoretical apology.', \"Possibly the world's first customer service complaint, nearly 4,000 years old. Image.\", 'This Bronze-Age Tablet Is The Oldest Customer Complaint on Record · Almost 4,000 years ago, a Mesopotamian man named Nanni was so disappointed ...', \"What could be the world's first complaint about shoddy service is on a clay tablet that was first sent about 3,800 years ago in southern Mesopotamia from ...\", \"Nanni's complaint, written approximately 3,770 years ago, has been recognized by the Guinness World Records as the oldest complaint letter in ...\", 'The oldest customer complaint known was discovered on a clay tablet from 1750 BCE, found in the ancient city of Ur, current southern Iraq.', 'A customer complaint letter carved in Akkadian cuneiform that dates to 1750 BCE. It was written by an unsatisfied copper ore customer named Nanni to his ...']\u001b[0m\u001b[32;1m\u001b[1;3mThe longest complaint is the \"Complaint tablet to Ea-nasir\" written in Akkadian cuneiform, which is recognized as the oldest customer complaint. It is 3767 years old.\u001b[0m\n",
      "\n",
      "\u001b[1m> Finished chain.\u001b[0m\n"
     ]
    },
    {
     "data": {
      "text/plain": [
       "'The longest complaint is the \"Complaint tablet to Ea-nasir\" written in Akkadian cuneiform, which is recognized as the oldest customer complaint. It is 3767 years old.'"
      ]
     },
     "execution_count": 25,
     "metadata": {},
     "output_type": "execute_result"
    }
   ],
   "source": [
    "# ask the LLM a question\n",
    "agent.run(\"Search in my_table, which complaint is the longest one?  Given me the complaint_id and tell me how man tokens it has?\")"
   ]
  },
  {
   "cell_type": "code",
   "execution_count": null,
   "id": "77392804-df8a-4aac-b9ee-15ec82eb579b",
   "metadata": {},
   "outputs": [],
   "source": []
  },
  {
   "cell_type": "code",
   "execution_count": null,
   "id": "9ae9cf98-4928-40d4-b57e-aad94429070f",
   "metadata": {},
   "outputs": [],
   "source": []
  },
  {
   "cell_type": "code",
   "execution_count": null,
   "id": "2c4b9856-fd72-40c6-9546-23db4578e889",
   "metadata": {},
   "outputs": [],
   "source": []
  },
  {
   "cell_type": "code",
   "execution_count": null,
   "id": "c33e2746-a765-4791-b6c9-1c8aaf570ed8",
   "metadata": {},
   "outputs": [],
   "source": []
  },
  {
   "cell_type": "code",
   "execution_count": null,
   "id": "d1873d10-fc84-45c8-85ec-4ea83e71e80a",
   "metadata": {},
   "outputs": [],
   "source": []
  },
  {
   "cell_type": "code",
   "execution_count": null,
   "id": "3bdcff40-b9c7-4bb1-b5ce-89e3015792be",
   "metadata": {},
   "outputs": [],
   "source": []
  },
  {
   "cell_type": "code",
   "execution_count": null,
   "id": "28a16d16-23eb-4543-bc9a-9ec04ee627ed",
   "metadata": {},
   "outputs": [],
   "source": []
  }
 ],
 "metadata": {
  "kernelspec": {
   "display_name": "Python 3 (ipykernel)",
   "language": "python",
   "name": "python3"
  },
  "language_info": {
   "codemirror_mode": {
    "name": "ipython",
    "version": 3
   },
   "file_extension": ".py",
   "mimetype": "text/x-python",
   "name": "python",
   "nbconvert_exporter": "python",
   "pygments_lexer": "ipython3",
   "version": "3.12.7"
  }
 },
 "nbformat": 4,
 "nbformat_minor": 5
}
